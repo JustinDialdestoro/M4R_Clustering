{
 "cells": [
  {
   "cell_type": "code",
   "execution_count": 3,
   "metadata": {},
   "outputs": [],
   "source": [
    "# import necessary packages\n",
    "import pandas as pd\n",
    "import numpy as np\n",
    "\n",
    "# import functions\n",
    "import CF\n",
    "import Metrics"
   ]
  },
  {
   "cell_type": "code",
   "execution_count": 4,
   "metadata": {},
   "outputs": [],
   "source": [
    "# reads in the 100k user rating data set\n",
    "u100k = pd.read_csv('u.data', sep='\\t', names=['userID', 'filmID', 'rating', 'timestamp'])\n",
    "\n",
    "# reads in the 1m user rating data set\n",
    "u1m = pd.read_csv('ratings.dat', sep='::', names=['userID', 'filmID', 'rating', 'timestamp'], engine ='python')"
   ]
  },
  {
   "cell_type": "code",
   "execution_count": null,
   "metadata": {},
   "outputs": [],
   "source": [
    "k_range = np.arange(10,301,10)"
   ]
  }
 ],
 "metadata": {
  "kernelspec": {
   "display_name": "M4R_venv",
   "language": "python",
   "name": "python3"
  },
  "language_info": {
   "codemirror_mode": {
    "name": "ipython",
    "version": 3
   },
   "file_extension": ".py",
   "mimetype": "text/x-python",
   "name": "python",
   "nbconvert_exporter": "python",
   "pygments_lexer": "ipython3",
   "version": "3.10.11"
  }
 },
 "nbformat": 4,
 "nbformat_minor": 2
}
